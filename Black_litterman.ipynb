{
  "nbformat": 4,
  "nbformat_minor": 0,
  "metadata": {
    "colab": {
      "provenance": []
    },
    "kernelspec": {
      "name": "python3",
      "display_name": "Python 3"
    },
    "language_info": {
      "name": "python"
    }
  },
  "cells": [
    {
      "cell_type": "code",
      "source": [
        "!pip install PyPortfolioOpt\n",
        "#Import các thư viện và mount Google Drive:\n",
        "import pandas as pd\n",
        "import numpy as np\n",
        "from scipy.optimize import minimize\n",
        "from google.colab import drive, files\n",
        "import matplotlib.pyplot as plt\n",
        "from pypfopt import black_litterman, risk_models, expected_returns\n",
        "\n",
        "drive.mount('/content/gdrive', force_remount=True)\n",
        "path = \"gdrive/My Drive/port/\""
      ],
      "metadata": {
        "colab": {
          "base_uri": "https://localhost:8080/"
        },
        "id": "MxSNJsYE36Ai",
        "outputId": "bd89dfa8-2903-4820-fe22-3d9c6c7859fb"
      },
      "execution_count": null,
      "outputs": [
        {
          "output_type": "stream",
          "name": "stdout",
          "text": [
            "Mounted at /content/gdrive\n"
          ]
        }
      ]
    },
    {
      "cell_type": "code",
      "source": [
        "file_path = path + 'port.xlsx'\n",
        "prices = pd.read_excel(file_path, sheet_name='Prices', index_col='Date', parse_dates=True)\n",
        "market_caps = pd.read_excel(file_path, sheet_name='MarketCap')\n",
        "parameters = pd.read_excel(file_path, sheet_name='Parameters')"
      ],
      "metadata": {
        "colab": {
          "base_uri": "https://localhost:8080/"
        },
        "id": "HG6e0zIC4EaP",
        "outputId": "c858164e-53f3-42da-9b51-e5ce70c488e1"
      },
      "execution_count": null,
      "outputs": [
        {
          "output_type": "stream",
          "name": "stderr",
          "text": [
            "<ipython-input-3-317ef544ff7f>:2: UserWarning: Parsing dates in %d/%m/%Y format when dayfirst=False (the default) was specified. Pass `dayfirst=True` or specify a format to silence this warning.\n",
            "  prices = pd.read_excel(file_path, sheet_name='Prices', index_col='Date', parse_dates=True)\n"
          ]
        }
      ]
    },
    {
      "cell_type": "code",
      "source": [
        "tickers = ['REE', 'HAH', 'ANV', 'PNJ']\n",
        "filtered_prices = prices[tickers]\n",
        "\n",
        "# Directly print the result since 'print_result' is not defined\n",
        "print(\"Filtered Prices:\")\n",
        "print(filtered_prices.head())"
      ],
      "metadata": {
        "colab": {
          "base_uri": "https://localhost:8080/"
        },
        "id": "rEUW6j1h4GfX",
        "outputId": "850d9d8e-463d-41dc-94b6-f05aa8852f35"
      },
      "execution_count": null,
      "outputs": [
        {
          "output_type": "stream",
          "name": "stdout",
          "text": [
            "Filtered Prices:\n",
            "                REE      HAH      ANV      PNJ\n",
            "Date                                          \n",
            "2024-07-19  70300.0  43000.0  36000.0  95700.0\n",
            "2024-07-18  72000.0  43950.0  35500.0  96000.0\n",
            "2024-07-17  72200.0  42500.0  34550.0  95900.0\n",
            "2024-07-16  73900.0  44350.0  34800.0  97100.0\n",
            "2024-07-15  72000.0  45150.0  35500.0  97700.0\n"
          ]
        }
      ]
    },
    {
      "cell_type": "code",
      "source": [
        "# Đầu tiên, sắp xếp lại dữ liệu từ ngày cũ nhất đến mới nhất\n",
        "filtered_prices = filtered_prices.sort_index(ascending=True)\n",
        "\n",
        "# Tính toán lợi suất kỳ vọng (expected returns) và ma trận hiệp phương sai (covariance matrix)\n",
        "mu = expected_returns.mean_historical_return(filtered_prices)\n",
        "S = risk_models.sample_cov(filtered_prices)\n",
        "\n",
        "# In kết quả\n",
        "print(\"Expected Returns (mu):\")\n",
        "print(mu)\n",
        "print(\"Covariance Matrix (S):\")\n",
        "print(S)"
      ],
      "metadata": {
        "colab": {
          "base_uri": "https://localhost:8080/"
        },
        "id": "HUmdqPRl4LuH",
        "outputId": "4148b140-05c2-4c3a-9531-3905b159336a"
      },
      "execution_count": null,
      "outputs": [
        {
          "output_type": "stream",
          "name": "stdout",
          "text": [
            "Expected Returns (mu):\n",
            "REE    0.363207\n",
            "HAH    0.808784\n",
            "ANV    0.247567\n",
            "PNJ    0.235503\n",
            "dtype: float64\n",
            "Covariance Matrix (S):\n",
            "          REE       HAH       ANV       PNJ\n",
            "REE  0.114086  0.067779  0.080692  0.045136\n",
            "HAH  0.067779  0.234843  0.125180  0.042404\n",
            "ANV  0.080692  0.125180  0.256446  0.051600\n",
            "PNJ  0.045136  0.042404  0.051600  0.091349\n"
          ]
        }
      ]
    },
    {
      "cell_type": "code",
      "source": [
        "# Xử lý dữ liệu vốn hóa thị trường\n",
        "# Check if 'Ticker' exists, if not, try to find the correct column\n",
        "if 'Ticker' not in market_caps.columns:\n",
        "  # List all columns to help identify the correct one\n",
        "  print(market_caps.columns)\n",
        "  # Assuming the ticker column is named 'Mã CK' based on the global variables output\n",
        "  market_caps.set_index('Mã CK', inplace=True)\n",
        "else:\n",
        "  market_caps.set_index('Ticker', inplace=True)\n",
        "\n",
        "market_caps['MarketCap'] = market_caps['MarketCap'].astype(float)"
      ],
      "metadata": {
        "id": "X31Eqvc27S0d"
      },
      "execution_count": null,
      "outputs": []
    },
    {
      "cell_type": "code",
      "source": [
        "# Lấy vốn hóa thị trường của VNINDEX\n",
        "vnindex_market_cap = market_caps.loc['VNINDEX', 'MarketCap']\n",
        "print(\"Market Capitalizations:\", vnindex_market_cap) # Use the built-in print function"
      ],
      "metadata": {
        "colab": {
          "base_uri": "https://localhost:8080/"
        },
        "id": "Y1Whp2HV4sao",
        "outputId": "af3c3fb9-a33e-4d93-8520-3ba56e20bd7b"
      },
      "execution_count": null,
      "outputs": [
        {
          "output_type": "stream",
          "name": "stdout",
          "text": [
            "Market Capitalizations: 6735064000000000.0\n"
          ]
        }
      ]
    },
    {
      "cell_type": "code",
      "source": [
        "# Tính tỷ trọng thị trường (Market Weights) cho các cổ phiếu trong danh mục\n",
        "market_weights = market_caps.loc[tickers, 'MarketCap'] / vnindex_market_cap\n",
        "market_weights = market_weights.to_dict()\n",
        "print(\"Tỷ trọng thị trường:\\n\", market_weights)"
      ],
      "metadata": {
        "colab": {
          "base_uri": "https://localhost:8080/"
        },
        "id": "Wpnynmmx7wn2",
        "outputId": "d3764e49-0e65-4cd5-8e8c-3ed075c8aa39"
      },
      "execution_count": null,
      "outputs": [
        {
          "output_type": "stream",
          "name": "stdout",
          "text": [
            "Tỷ trọng thị trường:\n",
            " {'REE': 0.004905875383158943, 'HAH': 0.0007747146551242869, 'ANV': 0.0007115898812542835, 'PNJ': 0.0047538306569915294}\n"
          ]
        }
      ]
    },
    {
      "cell_type": "code",
      "source": [
        "risk_free_rate = parameters.loc[parameters['Parameter'] == 'RiskFreeRate', 'Value'].iloc[0]\n",
        "risk_free_rate = float(str(risk_free_rate).replace(',', '.'))  # Chuyển đổi từ chuỗi có dấu phẩy sang float\n",
        "print(\"Risk-Free Rate\", risk_free_rate)"
      ],
      "metadata": {
        "colab": {
          "base_uri": "https://localhost:8080/"
        },
        "id": "H5c-RU_U8GA6",
        "outputId": "883f48f5-4d64-4cfc-db05-19869da06c62"
      },
      "execution_count": null,
      "outputs": [
        {
          "output_type": "stream",
          "name": "stdout",
          "text": [
            "Risk-Free Rate 0.02\n"
          ]
        }
      ]
    },
    {
      "cell_type": "code",
      "source": [
        "views_dict = {'REE': 0.20, 'HAH': 0.28, 'ANV': 0.18, 'PNJ': -0.1}\n",
        "print(\"Investor Views\", views_dict)\n",
        "omega = np.diag([0.01, 0.01, 0.01, 0.01])"
      ],
      "metadata": {
        "colab": {
          "base_uri": "https://localhost:8080/"
        },
        "id": "MHNGyc4K8KvJ",
        "outputId": "4b8a0a74-275a-4334-b018-249fc31ea3ba"
      },
      "execution_count": null,
      "outputs": [
        {
          "output_type": "stream",
          "name": "stdout",
          "text": [
            "Investor Views {'REE': 0.2, 'HAH': 0.28, 'ANV': 0.18, 'PNJ': -0.1}\n"
          ]
        }
      ]
    },
    {
      "cell_type": "code",
      "source": [
        "bl = black_litterman.BlackLittermanModel(S, pi=None, absolute_views=views_dict, omega=omega, market_caps=market_weights)\n",
        "bl_mu = bl.bl_returns()\n",
        "bl_S = bl.bl_cov()\n",
        "print(\"Black-Litterman Expected Returns (bl_mu)\")\n",
        "print(bl_mu)\n",
        "print(\"Black-Litterman Covariance Matrix (bl_S)\")\n",
        "print(bl_S)"
      ],
      "metadata": {
        "colab": {
          "base_uri": "https://localhost:8080/"
        },
        "id": "D09voNfT8erw",
        "outputId": "39f44f46-3a4b-4a73-97e3-cd87f35d384c"
      },
      "execution_count": null,
      "outputs": [
        {
          "output_type": "stream",
          "name": "stdout",
          "text": [
            "Black-Litterman Expected Returns (bl_mu)\n",
            "REE    0.091554\n",
            "HAH    0.169507\n",
            "ANV    0.138291\n",
            "PNJ    0.008915\n",
            "dtype: float64\n",
            "Black-Litterman Covariance Matrix (bl_S)\n",
            "          REE       HAH       ANV       PNJ\n",
            "REE  0.117209  0.068507  0.081619  0.045931\n",
            "HAH  0.068507  0.239738  0.126404  0.042818\n",
            "ANV  0.081619  0.126404  0.261502  0.052154\n",
            "PNJ  0.045931  0.042818  0.052154  0.094203\n"
          ]
        },
        {
          "output_type": "stream",
          "name": "stderr",
          "text": [
            "/usr/local/lib/python3.10/dist-packages/pypfopt/black_litterman.py:259: UserWarning: Running Black-Litterman with no prior.\n",
            "  warnings.warn(\"Running Black-Litterman with no prior.\")\n"
          ]
        }
      ]
    },
    {
      "cell_type": "code",
      "source": [
        "# Hàm tối ưu hóa danh mục\n",
        "def portfolio_optimization(mu, cov_matrix):\n",
        "    num_assets = len(mu)\n",
        "    args = (mu, cov_matrix)\n",
        "    constraints = ({'type': 'eq', 'fun': lambda x: np.sum(x) - 1})\n",
        "    bounds = tuple((0, 1) for asset in range(num_assets))\n",
        "\n",
        "    def portfolio_variance(weights, mu, cov_matrix):\n",
        "        return np.dot(weights.T, np.dot(cov_matrix, weights)) - np.dot(mu, weights)\n",
        "\n",
        "    result = minimize(portfolio_variance, num_assets * [1. / num_assets,], args=args,\n",
        "                      method='SLSQP', bounds=bounds, constraints=constraints)\n",
        "\n",
        "    return result.x\n",
        "\n",
        "# Tối ưu hóa danh mục dựa trên lợi nhuận kỳ vọng Black-Litterman\n",
        "optimal_weights = portfolio_optimization(bl_mu, bl_S)\n",
        "print(\"Optimal Weights\", optimal_weights)\n",
        "\n",
        "# Vẽ biểu đồ tròn tỷ trọng tối ưu của các cổ phiếu trong danh mục\n",
        "fig, ax = plt.subplots(figsize=(8, 8))\n",
        "ax.pie(optimal_weights, labels=tickers, autopct='%1.1f%%', startangle=90, colors=plt.cm.Paired(np.arange(len(tickers))))\n",
        "\n",
        "ax.axis('equal')  # Đảm bảo biểu đồ tròn\n",
        "plt.title('Optimal Weights of Portfolio')\n",
        "plt.show()"
      ],
      "metadata": {
        "colab": {
          "base_uri": "https://localhost:8080/",
          "height": 692
        },
        "id": "sq7C93nT87bB",
        "outputId": "5c25776a-119d-46aa-9cb6-01902fc902c2"
      },
      "execution_count": null,
      "outputs": [
        {
          "output_type": "stream",
          "name": "stdout",
          "text": [
            "Optimal Weights [0.47036761 0.33419977 0.11267656 0.08275606]\n"
          ]
        },
        {
          "output_type": "display_data",
          "data": {
            "text/plain": [
              "<Figure size 800x800 with 1 Axes>"
            ],
            "image/png": "[encoded data removed]"
          },
          "metadata": {}
        }
      ]
    },
    {
      "cell_type": "code",
      "source": [
        "# Hiển thị kết quả\n",
        "portfolio_df = pd.DataFrame({\n",
        "    'Asset': tickers,\n",
        "    'Market Weight': market_weights.values(),\n",
        "    'Optimal Weight': optimal_weights,\n",
        "    'Black-Litterman Return': bl_mu\n",
        "})\n",
        "print(\"Portfolio Optimization Results\")\n",
        "print(portfolio_df)"
      ],
      "metadata": {
        "colab": {
          "base_uri": "https://localhost:8080/"
        },
        "id": "LjGYR12g9ADI",
        "outputId": "e310cfcf-fa6e-4aa0-8675-0c9442a371ec"
      },
      "execution_count": null,
      "outputs": [
        {
          "output_type": "stream",
          "name": "stdout",
          "text": [
            "Portfolio Optimization Results\n",
            "    Asset  Market Weight  Optimal Weight  Black-Litterman Return\n",
            "REE   REE       0.004906        0.470368                0.091554\n",
            "HAH   HAH       0.000775        0.334200                0.169507\n",
            "ANV   ANV       0.000712        0.112677                0.138291\n",
            "PNJ   PNJ       0.004754        0.082756                0.008915\n"
          ]
        }
      ]
    }
  ]
}